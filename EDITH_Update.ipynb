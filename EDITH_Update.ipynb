
from math import sqrt
import turtle
from time import sleep
import mysql.connector
from tqdm import tqdm
import time
import sys

mydb = mysql.connector.connect(host="localhost", user="root", passwd="NNSSJTGIKO@1234kurama..madaramysql",
                               database="passwords")

mycursor = mydb.cursor()
# mycursor.execute("CREATE TABLE ENCRYPT (Original_Password VARCHAR(255),Salted_Key VARCHAR(255),Hashed_Password VARCHAR(255))")

password = input("ENTER THE PASSWORD : ")             # taking the password input from the user
print("")
password_stored = password
l = 1
while l <= 5:
    sys.stdout.write('\rloading |')
    time.sleep(0.2)
    sys.stdout.write('\rloading /')
    time.sleep(0.2)
    sys.stdout.write('\rloading -')
    time.sleep(0.2)
    sys.stdout.write('\rloading \\')
    time.sleep(0.2)
    l = l + 1
sleep(1)
print("**********************")
print("")
print("ORIGINAL PASSWORD - ", password)
val = []
ind = []

password = password.join("69")
f = "6"

for k in password:
    #
    # Caesar Shift
    # Each letter in the plaintext is replaced by a letter some fixed number of positions down the alphabet.
    if len(k) >= 1:
        k = ord(k) >> 3

for i in password:

        p1 = ord(i)+69 + ord(i) + ord(f)
        if i == "a":
            i = ord(i) * sqrt(ord(i)) + 26

        elif i == "b":
            i = ord(i) * sqrt(ord(i)) + 25
        elif i == "c":
            i = ord(i) * sqrt(ord(i)) + 24
        elif i == "d":
            i = ord(i) * sqrt(ord(i)) + 23
        elif i == "e":
            i = ord(i) * sqrt(ord(i)) + 22
        elif i == "f":
            i = ord(i) * sqrt(ord(i)) + 21
        elif i == "g":
            i = ord(i) * sqrt(ord(i)) + 20
        elif i == "h":
            i = ord(i) * sqrt(ord(i)) + 19
        elif i == "i":
            i = ord(i) * sqrt(ord(i)) + 18
        elif i == "j":
            i = ord(i) * sqrt(ord(i)) + 17
        elif i == "k":
            i = ord(i) * sqrt(ord(i)) + 16
        elif i == "l":
            i = ord(i) * sqrt(ord(i)) + 15
        elif i == "m":
            i = ord(i) * sqrt(ord(i)) + 14
        elif i == "n":
            i = ord(i) * sqrt(ord(i)) + 13
        elif i == "o":
            i = ord(i) * sqrt(ord(i)) + 12
        elif i == "p":
            i = ord(i) * sqrt(ord(i)) + 11
        elif i == "q":
            i = ord(i) * sqrt(ord(i)) + 10
        elif i == "r":
            i = ord(i) * sqrt(ord(i)) + 9
        elif i == "s":
            i = ord(i) * sqrt(ord(i)) + 8
        elif i == "t":
            i = ord(i) * sqrt(ord(i)) + 7
        elif i == "u":
            i = ord(i) * sqrt(ord(i)) + 6
        elif i == "v":
            i = ord(i) * sqrt(ord(i)) + 5
        elif i == "w":
            i = ord(i) * sqrt(ord(i)) + 4
        elif i == "x":
            i = ord(i) * sqrt(ord(i)) + 3
        elif i == "y":
            i = ord(i) * sqrt(ord(i)) + 2
        elif i == "z":
            i = ord(i) * sqrt(ord(i)) + 1

        else:
            i = i + "b"
        p2 = chr(p1)
        val.append(p1)
        val = sorted(val)
        ind.append(p2)
        ind = sorted(ind)

if len(password) <= 1:
    password = password.join("n")
elif len(password) <= 2:
    password = password.join("n")
elif len(password) <= 3:
    password = password.join("s")
elif len(password) <= 4:
    password = password.join("s")
elif len(password) <= 5:
    password = password.join("j")
elif len(password) <= 6:
    password = password.join("t")
elif len(password) <= 7:
    password = password.join("g")
elif len(password) <= 8:
    password = password.join("i")
elif len(password) <= 9:
    password = password.join("k")

#
# printing the password by combining both the val and ind
#
print("")
time.sleep(1)
print("INITIATING SALTING : ")

for i in tqdm([1,2,3,4,5,6,7,8,9,10]):
    time.sleep(0.5)

print("")
print("")
print("INITIATING HASHING :")
time.sleep(2)
for l in tqdm([1,2,3,4,5,6,7,8,9,10,11,12,13,14,15]):
    time.sleep(0.9)

print("")
print("")
print("ENCRYPTED PASSWORD [HASHED CODE] = ", end="")
empty = []
for j in val:
    # empty = empty[j]
    print(j, end="")
    string = str(j)
    empty.append(j)
for k in ind:
    print(k, end="")
    string = str(k)
    empty.append(k)
print("")
print("")
print("Hashed Code In Form of List")
print("")
print(empty)
print("")
print("")
sql = """INSERT INTO ENCRYPT(Original_Password, Salted_Key, Hashed_Password) VALUES (%s,%s,%s)"""
emptiness = []
for item in empty:
    emptiness.append(str(item))
values = ''.join(emptiness)
values_variable = (password_stored,"*********",values)
mycursor.execute(sql,values_variable)
mydb.commit()

mydb.close()

sleep(15)
titan = turtle.Turtle()
titan.speed(10)
titan.hideturtle()
titan.penup()
titan.back(500)
titan.pendown()
titan.isvisible()
titan.getscreen().bgcolor("#121212")

#
# for E
#
titan.color("black","#a04ecc")
titan.begin_fill()
titan.forward(100)
titan.left(90)
titan.forward(20)
titan.left(90)
titan.forward(80)
titan.right(90)
titan.forward(32)
titan.right(90)
titan.forward(50)
titan.left(90)
titan.forward(20)
titan.left(90)
titan.forward(50)
titan.right(90)
titan.forward(32)
titan.right(90)
titan.forward(80)
titan.left(90)
titan.forward(20)
titan.left(90)
titan.forward(100)
titan.left(90)
titan.forward(124)
titan.end_fill()
titan.hideturtle()
titan.penup()
titan.left(90)
titan.forward(300)
titan.pendown()

#
# for I
#
titan.hideturtle()
titan.color("black","white")
titan.begin_fill()
titan.forward(100)
titan.left(90)
titan.forward(20)
titan.left(90)
titan.forward(40)
titan.right(90)
titan.forward(90)
titan.right(90)
titan.forward(40)
titan.left(90)
titan.forward(20)
titan.left(90)
titan.forward(100)
titan.left(90)
titan.forward(20)
titan.left(90)
titan.forward(40)
titan.right(90)
titan.forward(90)
titan.right(90)
titan.forward(40)
titan.left(90)
titan.forward(20)
titan.left(90)
titan.penup()
titan.forward(200)
titan.pendown()
titan.end_fill()

#
# for T
#
titan.hideturtle()
titan.color("black","white")
titan.begin_fill()
titan.left(90)
titan.forward(100)
titan.right(90)
titan.forward(40)
titan.left(90)
titan.forward(20)
titan.left(90)
titan.forward(100)
titan.left(90)
titan.forward(20)
titan.left(90)
titan.forward(40)
titan.right(90)
titan.forward(100)
titan.left(90)
titan.forward(20)
titan.penup()
titan.forward(90)
titan.pendown()
titan.end_fill()

#
# for H
#
titan.color("black","white")
titan.begin_fill()
titan.left(90)
titan.forward(130)
titan.right(90)
titan.forward(20)
titan.right(90)
titan.forward(50)
titan.left(90)
titan.forward(40)
titan.left(90)
titan.forward(50)
titan.right(90)
titan.forward(20)
titan.right(90)
titan.forward(130)
titan.right(90)
titan.forward(20)
titan.right(90)
titan.forward(50)
titan.left(90)
titan.forward(40)
titan.left(90)
titan.forward(50)
titan.right(90)
titan.forward(20)
titan.end_fill()

#
# for D
#
titan.showturtle()
titan.pensize(12)
titan.color("turquoise")
titan.penup()
titan.forward(460)
titan.pendown()
titan.right(90)
titan.forward(240)
titan.right(90)
titan.forward(30)

for i in range(98):
    titan.forward(2.3)
    titan.right(2)
    titan.forward(1.9)
titan.hideturtle()

t = turtle.Turtle()
t.shape("turtle")

t.pensize(6)
t.pencolor("crimson")
t.speed(0)
t.penup()
t.goto(360,76)
t.pendown()

for i in range(12):
    t.begin_fill()
    t.right(90)
    t.forward(60)
    t.left(120)
    t.forward(60)
    t.left(120)
    t.forward(60)
    t.end_fill()
    t.forward(60)

t.hideturtle()
turtle.done()
